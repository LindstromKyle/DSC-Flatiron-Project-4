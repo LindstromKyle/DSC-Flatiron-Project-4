{
 "cells": [
  {
   "cell_type": "markdown",
   "metadata": {},
   "source": [
    "# This model has already been trained. Use keras.models.load_model ( )"
   ]
  },
  {
   "cell_type": "code",
   "execution_count": 72,
   "metadata": {},
   "outputs": [],
   "source": [
    "import tensorflow as tf\n",
    "from tensorflow import keras\n",
    "import matplotlib.pyplot as plt\n",
    "import numpy as np\n",
    "\n",
    "from sklearn.metrics import confusion_matrix, ConfusionMatrixDisplay"
   ]
  },
  {
   "cell_type": "code",
   "execution_count": 3,
   "metadata": {},
   "outputs": [
    {
     "name": "stdout",
     "output_type": "stream",
     "text": [
      "Downloading data from https://storage.googleapis.com/tensorflow/tf-keras-datasets/train-labels-idx1-ubyte.gz\n",
      "32768/29515 [=================================] - 0s 0us/step\n",
      "Downloading data from https://storage.googleapis.com/tensorflow/tf-keras-datasets/train-images-idx3-ubyte.gz\n",
      "26427392/26421880 [==============================] - 10s 0us/step\n",
      "Downloading data from https://storage.googleapis.com/tensorflow/tf-keras-datasets/t10k-labels-idx1-ubyte.gz\n",
      "8192/5148 [===============================================] - 0s 1us/step\n",
      "Downloading data from https://storage.googleapis.com/tensorflow/tf-keras-datasets/t10k-images-idx3-ubyte.gz\n",
      "4423680/4422102 [==============================] - 2s 0us/step\n"
     ]
    }
   ],
   "source": [
    "fashion_mnist = keras.datasets.fashion_mnist\n",
    "(X_train_full, y_train_full) , (X_test, y_test) = fashion_mnist.load_data() "
   ]
  },
  {
   "cell_type": "code",
   "execution_count": 4,
   "metadata": {},
   "outputs": [
    {
     "data": {
      "text/plain": [
       "(60000, 28, 28)"
      ]
     },
     "execution_count": 4,
     "metadata": {},
     "output_type": "execute_result"
    }
   ],
   "source": [
    "X_train_full.shape"
   ]
  },
  {
   "cell_type": "code",
   "execution_count": 6,
   "metadata": {},
   "outputs": [],
   "source": [
    "X_valid, X_train = X_train_full[:5000] / 255.0 , X_train_full[5000:] / 255.0\n",
    "y_valid, y_train = y_train_full[:5000] , y_train_full[5000:]\n",
    "X_test = X_test / 255.0"
   ]
  },
  {
   "cell_type": "code",
   "execution_count": 7,
   "metadata": {},
   "outputs": [
    {
     "data": {
      "text/plain": [
       "'Coat'"
      ]
     },
     "execution_count": 7,
     "metadata": {},
     "output_type": "execute_result"
    }
   ],
   "source": [
    "class_names = ['T-shirt/top', 'Trouser','Pullover','Dress','Coat','Sandal','Shirt','Sneaker','Bag','Ankle boot']\n",
    "class_names[y_train[0]]"
   ]
  },
  {
   "cell_type": "code",
   "execution_count": 51,
   "metadata": {},
   "outputs": [],
   "source": [
    "X_train, X_valid, X_test, = X_train.reshape(-1,28,28,1), X_valid.reshape(-1,28,28,1), X_test.reshape(-1,28,28,1)\n",
    "\n"
   ]
  },
  {
   "cell_type": "code",
   "execution_count": 52,
   "metadata": {},
   "outputs": [
    {
     "data": {
      "text/plain": [
       "(55000, 28, 28, 1)"
      ]
     },
     "execution_count": 52,
     "metadata": {},
     "output_type": "execute_result"
    }
   ],
   "source": [
    "X_train.shape"
   ]
  },
  {
   "cell_type": "code",
   "execution_count": 53,
   "metadata": {},
   "outputs": [
    {
     "data": {
      "text/plain": [
       "(5000, 28, 28, 1)"
      ]
     },
     "execution_count": 53,
     "metadata": {},
     "output_type": "execute_result"
    }
   ],
   "source": [
    "X_valid.shape"
   ]
  },
  {
   "cell_type": "code",
   "execution_count": 55,
   "metadata": {},
   "outputs": [
    {
     "data": {
      "text/plain": [
       "(10000, 28, 28, 1)"
      ]
     },
     "execution_count": 55,
     "metadata": {},
     "output_type": "execute_result"
    }
   ],
   "source": [
    "X_test.shape"
   ]
  },
  {
   "cell_type": "code",
   "execution_count": 56,
   "metadata": {},
   "outputs": [],
   "source": [
    "model = keras.models.Sequential([\n",
    "    keras.layers.Conv2D(64, 7, activation = 'relu', padding = 'same', input_shape = (28, 28, 1)),\n",
    "    keras.layers.MaxPooling2D(2),\n",
    "    keras.layers.Conv2D(128, 3, activation = 'relu', padding = 'same'),\n",
    "    keras.layers.Conv2D(128, 3, activation = 'relu', padding = 'same'),\n",
    "    keras.layers.MaxPooling2D(2),\n",
    "    keras.layers.Conv2D(256, 3, activation = 'relu', padding = 'same'),\n",
    "    keras.layers.Conv2D(256, 3, activation = 'relu', padding = 'same'),\n",
    "    keras.layers.MaxPooling2D(2),\n",
    "    keras.layers.Flatten(),\n",
    "    keras.layers.Dense(128, activation = 'relu'),\n",
    "    keras.layers.Dropout(0.5),\n",
    "    keras.layers.Dense(64, activation = 'relu'),\n",
    "    keras.layers.Dropout(0.5),\n",
    "    keras.layers.Dense(10, activation = 'softmax'),\n",
    "\n",
    "\n",
    "])"
   ]
  },
  {
   "cell_type": "code",
   "execution_count": 57,
   "metadata": {},
   "outputs": [
    {
     "name": "stdout",
     "output_type": "stream",
     "text": [
      "Model: \"sequential_8\"\n",
      "_________________________________________________________________\n",
      "Layer (type)                 Output Shape              Param #   \n",
      "=================================================================\n",
      "conv2d_40 (Conv2D)           (None, 28, 28, 64)        3200      \n",
      "_________________________________________________________________\n",
      "max_pooling2d_24 (MaxPooling (None, 14, 14, 64)        0         \n",
      "_________________________________________________________________\n",
      "conv2d_41 (Conv2D)           (None, 14, 14, 128)       73856     \n",
      "_________________________________________________________________\n",
      "conv2d_42 (Conv2D)           (None, 14, 14, 128)       147584    \n",
      "_________________________________________________________________\n",
      "max_pooling2d_25 (MaxPooling (None, 7, 7, 128)         0         \n",
      "_________________________________________________________________\n",
      "conv2d_43 (Conv2D)           (None, 7, 7, 256)         295168    \n",
      "_________________________________________________________________\n",
      "conv2d_44 (Conv2D)           (None, 7, 7, 256)         590080    \n",
      "_________________________________________________________________\n",
      "max_pooling2d_26 (MaxPooling (None, 3, 3, 256)         0         \n",
      "_________________________________________________________________\n",
      "flatten_8 (Flatten)          (None, 2304)              0         \n",
      "_________________________________________________________________\n",
      "dense_24 (Dense)             (None, 128)               295040    \n",
      "_________________________________________________________________\n",
      "dropout_16 (Dropout)         (None, 128)               0         \n",
      "_________________________________________________________________\n",
      "dense_25 (Dense)             (None, 64)                8256      \n",
      "_________________________________________________________________\n",
      "dropout_17 (Dropout)         (None, 64)                0         \n",
      "_________________________________________________________________\n",
      "dense_26 (Dense)             (None, 10)                650       \n",
      "=================================================================\n",
      "Total params: 1,413,834\n",
      "Trainable params: 1,413,834\n",
      "Non-trainable params: 0\n",
      "_________________________________________________________________\n"
     ]
    }
   ],
   "source": [
    "model.summary()\n",
    "#First layer has 3200 params - 7 X 7 weights X 64 Filters + 64 Biases"
   ]
  },
  {
   "cell_type": "code",
   "execution_count": 58,
   "metadata": {},
   "outputs": [],
   "source": [
    "model.compile(\n",
    "    loss = 'sparse_categorical_crossentropy',\n",
    "    optimizer = 'sgd',\n",
    "    metrics = ['accuracy']\n",
    "             )"
   ]
  },
  {
   "cell_type": "code",
   "execution_count": 59,
   "metadata": {},
   "outputs": [
    {
     "name": "stdout",
     "output_type": "stream",
     "text": [
      "Epoch 1/30\n",
      "1719/1719 [==============================] - 202s 117ms/step - loss: 1.3370 - accuracy: 0.5074 - val_loss: 0.7202 - val_accuracy: 0.7426\n",
      "Epoch 2/30\n",
      "1719/1719 [==============================] - 200s 116ms/step - loss: 0.8043 - accuracy: 0.7072 - val_loss: 0.5562 - val_accuracy: 0.8006\n",
      "Epoch 3/30\n",
      "1719/1719 [==============================] - 200s 116ms/step - loss: 0.6736 - accuracy: 0.7544 - val_loss: 0.4755 - val_accuracy: 0.8188\n",
      "Epoch 4/30\n",
      "1719/1719 [==============================] - 200s 116ms/step - loss: 0.5967 - accuracy: 0.7851 - val_loss: 0.4442 - val_accuracy: 0.8434\n",
      "Epoch 5/30\n",
      "1719/1719 [==============================] - 200s 116ms/step - loss: 0.5505 - accuracy: 0.8055 - val_loss: 0.3989 - val_accuracy: 0.8528\n",
      "Epoch 6/30\n",
      "1719/1719 [==============================] - 200s 117ms/step - loss: 0.5139 - accuracy: 0.8185 - val_loss: 0.3823 - val_accuracy: 0.8600\n",
      "Epoch 7/30\n",
      "1719/1719 [==============================] - 201s 117ms/step - loss: 0.4836 - accuracy: 0.8314 - val_loss: 0.3514 - val_accuracy: 0.8660\n",
      "Epoch 8/30\n",
      "1719/1719 [==============================] - 201s 117ms/step - loss: 0.4559 - accuracy: 0.8411 - val_loss: 0.3397 - val_accuracy: 0.8726\n",
      "Epoch 9/30\n",
      "1719/1719 [==============================] - 201s 117ms/step - loss: 0.4394 - accuracy: 0.8449 - val_loss: 0.3346 - val_accuracy: 0.8758\n",
      "Epoch 10/30\n",
      "1719/1719 [==============================] - 201s 117ms/step - loss: 0.4218 - accuracy: 0.8531 - val_loss: 0.3237 - val_accuracy: 0.8780\n",
      "Epoch 11/30\n",
      "1719/1719 [==============================] - 201s 117ms/step - loss: 0.4062 - accuracy: 0.8602 - val_loss: 0.3127 - val_accuracy: 0.8854\n",
      "Epoch 12/30\n",
      "1719/1719 [==============================] - 201s 117ms/step - loss: 0.3891 - accuracy: 0.8647 - val_loss: 0.3192 - val_accuracy: 0.8802\n",
      "Epoch 13/30\n",
      "1719/1719 [==============================] - 201s 117ms/step - loss: 0.3766 - accuracy: 0.8686 - val_loss: 0.2983 - val_accuracy: 0.8940\n",
      "Epoch 14/30\n",
      "1719/1719 [==============================] - 202s 117ms/step - loss: 0.3670 - accuracy: 0.8726 - val_loss: 0.2835 - val_accuracy: 0.8938\n",
      "Epoch 15/30\n",
      "1719/1719 [==============================] - 203s 118ms/step - loss: 0.3594 - accuracy: 0.8776 - val_loss: 0.2891 - val_accuracy: 0.8926\n",
      "Epoch 16/30\n",
      "1719/1719 [==============================] - 212s 123ms/step - loss: 0.3461 - accuracy: 0.8815 - val_loss: 0.2870 - val_accuracy: 0.8912\n",
      "Epoch 17/30\n",
      "1719/1719 [==============================] - 223s 130ms/step - loss: 0.3384 - accuracy: 0.8828 - val_loss: 0.2727 - val_accuracy: 0.9006\n",
      "Epoch 18/30\n",
      "1719/1719 [==============================] - 217s 126ms/step - loss: 0.3268 - accuracy: 0.8870 - val_loss: 0.2721 - val_accuracy: 0.8976\n",
      "Epoch 19/30\n",
      "1719/1719 [==============================] - 217s 126ms/step - loss: 0.3193 - accuracy: 0.8891 - val_loss: 0.2782 - val_accuracy: 0.8904\n",
      "Epoch 20/30\n",
      "1719/1719 [==============================] - 218s 127ms/step - loss: 0.3137 - accuracy: 0.8902 - val_loss: 0.2671 - val_accuracy: 0.8964\n",
      "Epoch 21/30\n",
      "1719/1719 [==============================] - 217s 126ms/step - loss: 0.3041 - accuracy: 0.8938 - val_loss: 0.2638 - val_accuracy: 0.9014\n",
      "Epoch 22/30\n",
      "1719/1719 [==============================] - 217s 126ms/step - loss: 0.2927 - accuracy: 0.8993 - val_loss: 0.2657 - val_accuracy: 0.9052\n",
      "Epoch 23/30\n",
      "1719/1719 [==============================] - 216s 126ms/step - loss: 0.2880 - accuracy: 0.9001 - val_loss: 0.2606 - val_accuracy: 0.9030\n",
      "Epoch 24/30\n",
      "1719/1719 [==============================] - 212s 124ms/step - loss: 0.2812 - accuracy: 0.9025 - val_loss: 0.2570 - val_accuracy: 0.9064\n",
      "Epoch 25/30\n",
      "1719/1719 [==============================] - 231s 134ms/step - loss: 0.2778 - accuracy: 0.9045 - val_loss: 0.2604 - val_accuracy: 0.9060\n",
      "Epoch 26/30\n",
      "1719/1719 [==============================] - 243s 141ms/step - loss: 0.2682 - accuracy: 0.9056 - val_loss: 0.2477 - val_accuracy: 0.9080\n",
      "Epoch 27/30\n",
      "1719/1719 [==============================] - 236s 138ms/step - loss: 0.2612 - accuracy: 0.9091 - val_loss: 0.2622 - val_accuracy: 0.9062\n",
      "Epoch 28/30\n",
      "1719/1719 [==============================] - 235s 137ms/step - loss: 0.2599 - accuracy: 0.9090 - val_loss: 0.2504 - val_accuracy: 0.9096\n",
      "Epoch 29/30\n",
      "1719/1719 [==============================] - 236s 138ms/step - loss: 0.2520 - accuracy: 0.9125 - val_loss: 0.2559 - val_accuracy: 0.9046\n",
      "Epoch 30/30\n",
      "1719/1719 [==============================] - 233s 136ms/step - loss: 0.2461 - accuracy: 0.9135 - val_loss: 0.2431 - val_accuracy: 0.9078\n"
     ]
    }
   ],
   "source": [
    "results = model.fit(X_train, y_train, epochs = 30, validation_data = (X_valid, y_valid))"
   ]
  },
  {
   "cell_type": "code",
   "execution_count": 64,
   "metadata": {},
   "outputs": [
    {
     "name": "stdout",
     "output_type": "stream",
     "text": [
      "WARNING:tensorflow:From /Users/lindstromkyle/opt/anaconda3/envs/learn-env/lib/python3.8/site-packages/tensorflow/python/training/tracking/tracking.py:111: Model.state_updates (from tensorflow.python.keras.engine.training) is deprecated and will be removed in a future version.\n",
      "Instructions for updating:\n",
      "This property should not be used in TensorFlow 2.0, as updates are applied automatically.\n",
      "WARNING:tensorflow:From /Users/lindstromkyle/opt/anaconda3/envs/learn-env/lib/python3.8/site-packages/tensorflow/python/training/tracking/tracking.py:111: Layer.updates (from tensorflow.python.keras.engine.base_layer) is deprecated and will be removed in a future version.\n",
      "Instructions for updating:\n",
      "This property should not be used in TensorFlow 2.0, as updates are applied automatically.\n",
      "INFO:tensorflow:Assets written to: MNIST_Fashion/assets\n"
     ]
    }
   ],
   "source": [
    "#model.save(\"MNIST_Fashion\")"
   ]
  },
  {
   "cell_type": "code",
   "execution_count": 63,
   "metadata": {},
   "outputs": [
    {
     "data": {
      "image/png": "[encoded data removed]",
      "text/plain": [
       "<Figure size 432x288 with 1 Axes>"
      ]
     },
     "metadata": {
      "needs_background": "light"
     },
     "output_type": "display_data"
    }
   ],
   "source": [
    "plt.plot(results.history['loss'], label = 'Train');\n",
    "plt.plot(results.history['val_loss'], label = 'Validation');\n",
    "plt.legend();"
   ]
  },
  {
   "cell_type": "code",
   "execution_count": 65,
   "metadata": {},
   "outputs": [
    {
     "data": {
      "image/png": "[encoded data removed]",
      "text/plain": [
       "<Figure size 432x288 with 1 Axes>"
      ]
     },
     "metadata": {
      "needs_background": "light"
     },
     "output_type": "display_data"
    }
   ],
   "source": [
    "plt.plot(results.history['accuracy'], label = 'Train');\n",
    "plt.plot(results.history['val_accuracy'], label = 'Validation');\n",
    "plt.legend();"
   ]
  },
  {
   "cell_type": "code",
   "execution_count": 66,
   "metadata": {},
   "outputs": [
    {
     "name": "stdout",
     "output_type": "stream",
     "text": [
      "1719/1719 [==============================] - 46s 27ms/step - loss: 0.1729 - accuracy: 0.9353\n",
      "Training accuracy: 0.9352909326553345\n"
     ]
    }
   ],
   "source": [
    "print('Training accuracy:', model.evaluate(X_train, y_train)[1])"
   ]
  },
  {
   "cell_type": "code",
   "execution_count": 67,
   "metadata": {},
   "outputs": [
    {
     "name": "stdout",
     "output_type": "stream",
     "text": [
      "313/313 [==============================] - 8s 25ms/step - loss: 0.2705 - accuracy: 0.9040\n",
      "Testing accuracy: 0.9039999842643738\n"
     ]
    }
   ],
   "source": [
    "print('Testing accuracy:', model.evaluate(X_test, y_test)[1])"
   ]
  },
  {
   "cell_type": "code",
   "execution_count": 94,
   "metadata": {},
   "outputs": [],
   "source": [
    "reconstructed_model = keras.models.load_model(\"MNIST_Fashion\")"
   ]
  },
  {
   "cell_type": "code",
   "execution_count": 95,
   "metadata": {},
   "outputs": [
    {
     "data": {
      "image/png": "[encoded data removed]",
      "text/plain": [
       "<Figure size 1080x504 with 2 Axes>"
      ]
     },
     "metadata": {
      "needs_background": "light"
     },
     "output_type": "display_data"
    }
   ],
   "source": [
    "fig, ax = plt.subplots(figsize = (15,7))\n",
    "ax.set_title('Test Data Confusion Matrix')\n",
    "y_pred = np.argmax(reconstructed_model.predict(X_test), axis=-1)\n",
    "\n",
    "labels = class_names\n",
    "\n",
    "cm = confusion_matrix(y_test, y_pred)\n",
    "\n",
    "disp = ConfusionMatrixDisplay(confusion_matrix=cm, display_labels=labels)\n",
    "\n",
    "disp.plot(cmap=plt.cm.Blues, ax = ax);"
   ]
  },
  {
   "cell_type": "code",
   "execution_count": 100,
   "metadata": {},
   "outputs": [],
   "source": [
    "from IPython.display import clear_output\n",
    "import time\n",
    "\n",
    "for i in range(10):\n",
    "    sample = np.random.randint(0,10000)\n",
    "    plt.imshow(X_test[sample], cmap = 'gray');\n",
    "    plt.show()\n",
    "    print('Model predicts:', class_names[int(np.argmax(reconstructed_model.predict(X_test[sample].reshape(1,28,28,1)), axis = -1))])\n",
    "    time.sleep(2)\n",
    "    clear_output()\n",
    "    "
   ]
  },
  {
   "cell_type": "code",
   "execution_count": null,
   "metadata": {},
   "outputs": [],
   "source": []
  }
 ],
 "metadata": {
  "kernelspec": {
   "display_name": "Python 3",
   "language": "python",
   "name": "python3"
  },
  "language_info": {
   "codemirror_mode": {
    "name": "ipython",
    "version": 3
   },
   "file_extension": ".py",
   "mimetype": "text/x-python",
   "name": "python",
   "nbconvert_exporter": "python",
   "pygments_lexer": "ipython3",
   "version": "3.8.5"
  }
 },
 "nbformat": 4,
 "nbformat_minor": 4
}
