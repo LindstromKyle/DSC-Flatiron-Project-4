{
 "cells": [
  {
   "cell_type": "code",
   "execution_count": 1,
   "metadata": {},
   "outputs": [],
   "source": [
    "import numpy as np\n",
    "import matplotlib.pyplot as plt\n",
    "\n",
    "from sklearn.metrics import confusion_matrix, ConfusionMatrixDisplay\n",
    "\n",
    "import tensorflow as tf\n",
    "import keras\n",
    "from tensorflow.keras.preprocessing import image_dataset_from_directory\n",
    "from tensorflow.keras import layers\n",
    "from tensorflow.keras.models import Sequential\n",
    "\n"
   ]
  },
  {
   "cell_type": "code",
   "execution_count": 2,
   "metadata": {},
   "outputs": [
    {
     "name": "stdout",
     "output_type": "stream",
     "text": [
      "Found 5216 files belonging to 2 classes.\n",
      "Using 4173 files for training.\n"
     ]
    }
   ],
   "source": [
    "training_data = image_dataset_from_directory(\n",
    "    '../data/chest_xray/train', \n",
    "    labels='inferred',\n",
    "    validation_split = 0.2,\n",
    "    subset=\"training\",\n",
    "    seed=14)"
   ]
  },
  {
   "cell_type": "code",
   "execution_count": 3,
   "metadata": {},
   "outputs": [
    {
     "name": "stdout",
     "output_type": "stream",
     "text": [
      "Found 5216 files belonging to 2 classes.\n",
      "Using 1043 files for validation.\n"
     ]
    }
   ],
   "source": [
    "validation_data = image_dataset_from_directory(\n",
    "    '../data/chest_xray/train', \n",
    "    labels='inferred',\n",
    "    validation_split = 0.2,\n",
    "    subset=\"validation\",\n",
    "    seed=14)"
   ]
  },
  {
   "cell_type": "code",
   "execution_count": 4,
   "metadata": {},
   "outputs": [
    {
     "name": "stdout",
     "output_type": "stream",
     "text": [
      "Found 624 files belonging to 2 classes.\n"
     ]
    }
   ],
   "source": [
    "test_data = image_dataset_from_directory(\n",
    "    '../data/chest_xray/test', \n",
    "    labels='inferred',\n",
    "    batch_size = 624,\n",
    "    shuffle = False)"
   ]
  },
  {
   "cell_type": "code",
   "execution_count": 5,
   "metadata": {},
   "outputs": [],
   "source": [
    "data_augmentation = tf.keras.Sequential([\n",
    "  tf.keras.layers.experimental.preprocessing.RandomFlip(\"horizontal\"),\n",
    "  tf.keras.layers.experimental.preprocessing.RandomRotation(0.2),\n",
    "])"
   ]
  },
  {
   "cell_type": "code",
   "execution_count": 6,
   "metadata": {},
   "outputs": [],
   "source": [
    "aug_ds = training_data.map( lambda x, y: (data_augmentation(x, training=True), y))\n",
    "augmented_training_data = training_data.concatenate(aug_ds)"
   ]
  },
  {
   "cell_type": "code",
   "execution_count": 7,
   "metadata": {},
   "outputs": [],
   "source": [
    "aug_val = validation_data.map( lambda x, y: (data_augmentation(x, training=True), y))\n",
    "augmented_validation_data = validation_data.concatenate(aug_val)"
   ]
  },
  {
   "cell_type": "code",
   "execution_count": 8,
   "metadata": {},
   "outputs": [],
   "source": [
    "def preprocess(image, label):\n",
    "    resized_image = tf.image.resize(image, [224,224])\n",
    "    final_image = keras.applications.xception.preprocess_input(resized_image)\n",
    "    return final_image, label"
   ]
  },
  {
   "cell_type": "code",
   "execution_count": 9,
   "metadata": {},
   "outputs": [],
   "source": [
    "augmented_training_data = augmented_training_data.shuffle(1000)\n",
    "augmented_training_data = augmented_training_data.map(preprocess).prefetch(1)\n",
    "augmented_validation_data = augmented_validation_data.map(preprocess).prefetch(1)\n",
    "test_data = test_data.map(preprocess).prefetch(1)"
   ]
  },
  {
   "cell_type": "code",
   "execution_count": 10,
   "metadata": {},
   "outputs": [
    {
     "data": {
      "text/plain": [
       "<PrefetchDataset shapes: ((None, 224, 224, 3), (None,)), types: (tf.float32, tf.int32)>"
      ]
     },
     "execution_count": 10,
     "metadata": {},
     "output_type": "execute_result"
    }
   ],
   "source": [
    "augmented_training_data"
   ]
  },
  {
   "cell_type": "code",
   "execution_count": 11,
   "metadata": {},
   "outputs": [],
   "source": [
    "base_model = keras.applications.xception.Xception(weights = 'imagenet', include_top = False)\n",
    "avg = keras.layers.GlobalAveragePooling2D()(base_model.output)\n",
    "output = keras.layers.Dense(1, activation = 'sigmoid')(avg)\n",
    "model = keras.Model(inputs = base_model.input, outputs = output)"
   ]
  },
  {
   "cell_type": "code",
   "execution_count": 12,
   "metadata": {},
   "outputs": [],
   "source": [
    "for layer in base_model.layers:\n",
    "    layer.trainable = False"
   ]
  },
  {
   "cell_type": "code",
   "execution_count": 13,
   "metadata": {},
   "outputs": [],
   "source": [
    "optimizer = keras.optimizers.SGD(lr = 0.2, momentum = 0.9, decay = 0.01)\n",
    "model.compile(loss = 'binary_crossentropy', optimizer = optimizer, metrics = ['accuracy'])"
   ]
  },
  {
   "cell_type": "code",
   "execution_count": 14,
   "metadata": {},
   "outputs": [
    {
     "name": "stdout",
     "output_type": "stream",
     "text": [
      "Epoch 1/6\n",
      "262/262 [==============================] - 592s 2s/step - loss: 3.2409 - accuracy: 0.8792 - val_loss: 1.6364 - val_accuracy: 0.8974\n",
      "Epoch 2/6\n",
      "262/262 [==============================] - 572s 2s/step - loss: 1.0574 - accuracy: 0.9351 - val_loss: 0.6624 - val_accuracy: 0.9310\n",
      "Epoch 3/6\n",
      "262/262 [==============================] - 570s 2s/step - loss: 0.6488 - accuracy: 0.9446 - val_loss: 0.5552 - val_accuracy: 0.9382\n",
      "Epoch 4/6\n",
      "262/262 [==============================] - 574s 2s/step - loss: 0.5810 - accuracy: 0.9418 - val_loss: 0.6264 - val_accuracy: 0.9209\n",
      "Epoch 5/6\n",
      "262/262 [==============================] - 569s 2s/step - loss: 0.4760 - accuracy: 0.9487 - val_loss: 0.6369 - val_accuracy: 0.9113\n",
      "Epoch 6/6\n",
      "262/262 [==============================] - 568s 2s/step - loss: 0.4470 - accuracy: 0.9486 - val_loss: 0.4546 - val_accuracy: 0.9305\n"
     ]
    }
   ],
   "source": [
    "results = model.fit(augmented_training_data, epochs = 6, validation_data = augmented_validation_data, class_weight = {0:2.88, 1:1})\n"
   ]
  },
  {
   "cell_type": "code",
   "execution_count": 15,
   "metadata": {},
   "outputs": [
    {
     "name": "stdout",
     "output_type": "stream",
     "text": [
      "1/1 [==============================] - 0s 40ms/step - loss: 1.5247 - accuracy: 0.8349\n"
     ]
    },
    {
     "data": {
      "text/plain": [
       "[1.5247061252593994, 0.8349359035491943]"
      ]
     },
     "execution_count": 15,
     "metadata": {},
     "output_type": "execute_result"
    }
   ],
   "source": [
    "model.evaluate(test_data)"
   ]
  },
  {
   "cell_type": "code",
   "execution_count": null,
   "metadata": {},
   "outputs": [],
   "source": [
    "#model.save('Kyle_transfer_2')"
   ]
  },
  {
   "cell_type": "markdown",
   "metadata": {},
   "source": [
    "# Run for a few epochs, then unfreeze the bottom layers and resume training below"
   ]
  },
  {
   "cell_type": "code",
   "execution_count": 16,
   "metadata": {},
   "outputs": [],
   "source": [
    "for layer in base_model.layers:\n",
    "    layer.trainable = True"
   ]
  },
  {
   "cell_type": "code",
   "execution_count": 17,
   "metadata": {},
   "outputs": [],
   "source": [
    "optimizer = keras.optimizers.SGD(lr = 0.01, momentum = 0.9, decay = 0.001)\n",
    "model.compile(loss = 'binary_crossentropy', optimizer = optimizer, metrics = ['accuracy'])"
   ]
  },
  {
   "cell_type": "code",
   "execution_count": 18,
   "metadata": {},
   "outputs": [
    {
     "name": "stdout",
     "output_type": "stream",
     "text": [
      "Epoch 1/10\n",
      "262/262 [==============================] - 2165s 8s/step - loss: 0.3038 - accuracy: 0.9306 - val_loss: 0.1489 - val_accuracy: 0.9420\n",
      "Epoch 2/10\n",
      "262/262 [==============================] - 2154s 8s/step - loss: 0.1197 - accuracy: 0.9718 - val_loss: 0.0599 - val_accuracy: 0.9775\n",
      "Epoch 3/10\n",
      "262/262 [==============================] - 2187s 8s/step - loss: 0.0825 - accuracy: 0.9818 - val_loss: 0.0725 - val_accuracy: 0.9722\n",
      "Epoch 4/10\n",
      "262/262 [==============================] - 2168s 8s/step - loss: 0.0580 - accuracy: 0.9853 - val_loss: 0.0457 - val_accuracy: 0.9818\n",
      "Epoch 5/10\n",
      "262/262 [==============================] - 2159s 8s/step - loss: 0.0554 - accuracy: 0.9872 - val_loss: 0.0523 - val_accuracy: 0.9808\n",
      "Epoch 6/10\n",
      "262/262 [==============================] - 2222s 8s/step - loss: 0.0421 - accuracy: 0.9893 - val_loss: 0.0518 - val_accuracy: 0.9808\n",
      "Epoch 7/10\n",
      "262/262 [==============================] - 2526s 10s/step - loss: 0.0391 - accuracy: 0.9901 - val_loss: 0.0745 - val_accuracy: 0.9770\n",
      "Epoch 8/10\n",
      "262/262 [==============================] - 2330s 9s/step - loss: 0.0383 - accuracy: 0.9902 - val_loss: 0.0618 - val_accuracy: 0.9789\n",
      "Epoch 9/10\n",
      "262/262 [==============================] - 2219s 8s/step - loss: 0.0323 - accuracy: 0.9922 - val_loss: 0.0414 - val_accuracy: 0.9871\n",
      "Epoch 10/10\n",
      "262/262 [==============================] - 2213s 8s/step - loss: 0.0297 - accuracy: 0.9928 - val_loss: 0.1018 - val_accuracy: 0.9708\n"
     ]
    }
   ],
   "source": [
    "results = model.fit(augmented_training_data, epochs = 10, validation_data = augmented_validation_data, class_weight = {0:2.88, 1:1})"
   ]
  },
  {
   "cell_type": "code",
   "execution_count": 19,
   "metadata": {},
   "outputs": [
    {
     "name": "stdout",
     "output_type": "stream",
     "text": [
      "1/1 [==============================] - 0s 19ms/step - loss: 0.6127 - accuracy: 0.9071\n"
     ]
    },
    {
     "data": {
      "text/plain": [
       "[0.6127194166183472, 0.9070512652397156]"
      ]
     },
     "execution_count": 19,
     "metadata": {},
     "output_type": "execute_result"
    }
   ],
   "source": [
    "model.evaluate(test_data)"
   ]
  },
  {
   "cell_type": "code",
   "execution_count": 20,
   "metadata": {},
   "outputs": [
    {
     "name": "stdout",
     "output_type": "stream",
     "text": [
      "WARNING:tensorflow:From /Users/lindstromkyle/opt/anaconda3/envs/learn-env/lib/python3.8/site-packages/tensorflow/python/training/tracking/tracking.py:111: Model.state_updates (from tensorflow.python.keras.engine.training) is deprecated and will be removed in a future version.\n",
      "Instructions for updating:\n",
      "This property should not be used in TensorFlow 2.0, as updates are applied automatically.\n",
      "WARNING:tensorflow:From /Users/lindstromkyle/opt/anaconda3/envs/learn-env/lib/python3.8/site-packages/tensorflow/python/training/tracking/tracking.py:111: Layer.updates (from tensorflow.python.keras.engine.base_layer) is deprecated and will be removed in a future version.\n",
      "Instructions for updating:\n",
      "This property should not be used in TensorFlow 2.0, as updates are applied automatically.\n",
      "INFO:tensorflow:Assets written to: Kyle_transfer_full_2/assets\n"
     ]
    }
   ],
   "source": [
    "model.save('Kyle_transfer_full_2')"
   ]
  },
  {
   "cell_type": "code",
   "execution_count": null,
   "metadata": {},
   "outputs": [],
   "source": [
    "#reconstructed_model = keras.models.load_model(\"Kyle_transfer_full_1\")"
   ]
  },
  {
   "cell_type": "code",
   "execution_count": null,
   "metadata": {},
   "outputs": [],
   "source": [
    "#reconstructed_model.evaluate(test_data)"
   ]
  },
  {
   "cell_type": "code",
   "execution_count": 23,
   "metadata": {},
   "outputs": [
    {
     "data": {
      "image/png": "[encoded data removed]",
      "text/plain": [
       "<Figure size 1080x576 with 2 Axes>"
      ]
     },
     "metadata": {
      "needs_background": "light"
     },
     "output_type": "display_data"
    }
   ],
   "source": [
    "acc = results.history['accuracy']\n",
    "val_acc = results.history['val_accuracy']\n",
    "\n",
    "loss = results.history['loss']\n",
    "val_loss = results.history['val_loss']\n",
    "\n",
    "epochs_range = range(10)\n",
    "\n",
    "plt.figure(figsize=(15, 8))\n",
    "plt.subplot(1, 2, 1)\n",
    "plt.plot(epochs_range, acc, label='Training Accuracy')\n",
    "plt.plot(epochs_range, val_acc, label='Validation Accuracy')\n",
    "plt.legend(loc='lower right')\n",
    "plt.title('Training and Validation Accuracy')\n",
    "\n",
    "plt.subplot(1, 2, 2)\n",
    "plt.plot(epochs_range, loss, label='Training Loss')\n",
    "plt.plot(epochs_range, val_loss, label='Validation Loss')\n",
    "plt.legend(loc='upper right')\n",
    "plt.title('Training and Validation Loss')\n",
    "plt.show()"
   ]
  },
  {
   "cell_type": "code",
   "execution_count": null,
   "metadata": {},
   "outputs": [],
   "source": []
  }
 ],
 "metadata": {
  "kernelspec": {
   "display_name": "Python (learn-env)",
   "language": "python",
   "name": "learn-env"
  },
  "language_info": {
   "codemirror_mode": {
    "name": "ipython",
    "version": 3
   },
   "file_extension": ".py",
   "mimetype": "text/x-python",
   "name": "python",
   "nbconvert_exporter": "python",
   "pygments_lexer": "ipython3",
   "version": "3.8.5"
  }
 },
 "nbformat": 4,
 "nbformat_minor": 4
}
